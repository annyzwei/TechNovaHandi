{
 "cells": [
  {
   "cell_type": "code",
   "execution_count": 9,
   "id": "b9531935",
   "metadata": {
    "scrolled": true
   },
   "outputs": [
    {
     "name": "stdout",
     "output_type": "stream",
     "text": [
      "Requirement already satisfied: mediapipe in c:\\users\\anny\\anaconda3\\lib\\site-packages (0.8.9.1)\n",
      "Requirement already satisfied: opencv-python in c:\\users\\anny\\anaconda3\\lib\\site-packages (4.5.5.62)\n",
      "Requirement already satisfied: absl-py in c:\\users\\anny\\anaconda3\\lib\\site-packages (from mediapipe) (1.0.0)\n",
      "Requirement already satisfied: protobuf>=3.11.4 in c:\\users\\anny\\anaconda3\\lib\\site-packages (from mediapipe) (3.19.1)\n",
      "Requirement already satisfied: attrs>=19.1.0 in c:\\users\\anny\\anaconda3\\lib\\site-packages (from mediapipe) (20.3.0)\n",
      "Requirement already satisfied: numpy in c:\\users\\anny\\anaconda3\\lib\\site-packages (from mediapipe) (1.20.1)\n",
      "Requirement already satisfied: opencv-contrib-python in c:\\users\\anny\\anaconda3\\lib\\site-packages (from mediapipe) (4.5.5.62)\n",
      "Requirement already satisfied: matplotlib in c:\\users\\anny\\anaconda3\\lib\\site-packages (from mediapipe) (3.3.4)\n",
      "Requirement already satisfied: six in c:\\users\\anny\\anaconda3\\lib\\site-packages (from absl-py->mediapipe) (1.15.0)\n",
      "Requirement already satisfied: pillow>=6.2.0 in c:\\users\\anny\\anaconda3\\lib\\site-packages (from matplotlib->mediapipe) (8.2.0)\n",
      "Requirement already satisfied: pyparsing!=2.0.4,!=2.1.2,!=2.1.6,>=2.0.3 in c:\\users\\anny\\anaconda3\\lib\\site-packages (from matplotlib->mediapipe) (2.4.7)\n",
      "Requirement already satisfied: kiwisolver>=1.0.1 in c:\\users\\anny\\anaconda3\\lib\\site-packages (from matplotlib->mediapipe) (1.3.1)\n",
      "Requirement already satisfied: python-dateutil>=2.1 in c:\\users\\anny\\anaconda3\\lib\\site-packages (from matplotlib->mediapipe) (2.8.1)\n",
      "Requirement already satisfied: cycler>=0.10 in c:\\users\\anny\\anaconda3\\lib\\site-packages (from matplotlib->mediapipe) (0.10.0)\n"
     ]
    }
   ],
   "source": [
    "!pip install mediapipe opencv-python"
   ]
  },
  {
   "cell_type": "code",
   "execution_count": 1,
   "id": "bb3e2178",
   "metadata": {},
   "outputs": [],
   "source": [
    "import cv2\n",
    "import mediapipe as mp\n",
    "import numpy as np\n",
    "import math\n",
    "\n",
    "\n",
    "mp_draining = mp.solutions.drawing_utils # drawing \n",
    "mp_pose = mp.solutions.pose # import pose estimation model"
   ]
  },
  {
   "cell_type": "markdown",
   "id": "76240283",
   "metadata": {},
   "source": [
    "## Calculate stuff"
   ]
  },
  {
   "cell_type": "code",
   "execution_count": 2,
   "id": "20282e5f",
   "metadata": {},
   "outputs": [],
   "source": [
    "import numpy as np\n",
    "def calculate_angle(a,b,c):\n",
    "    a = np.array(a)\n",
    "    b = np.array(b)\n",
    "    c = np.array(c)\n",
    "    \n",
    "    radians = np.arctan2(c[1] -b[1], c[0]-b[0]) - np.arctan2(a[1] -b[1], a[0] - b[0])\n",
    "    angle = np.abs(radians*180.0/np.pi)\n",
    "\n",
    "    if angle > 180.0:\n",
    "        angle = 360-angle\n",
    "        \n",
    "    return angle"
   ]
  },
  {
   "cell_type": "code",
   "execution_count": 3,
   "id": "ef358150",
   "metadata": {},
   "outputs": [],
   "source": [
    "import numpy as np\n",
    "def calculate_distance(point1, point2):\n",
    "    distance = ((point1[0] - point2[0])**2 + (point1[1]-point2[1])**2)**(0.5)\n",
    "    return distance"
   ]
  },
  {
   "cell_type": "code",
   "execution_count": 4,
   "id": "cad77418",
   "metadata": {},
   "outputs": [],
   "source": [
    "def bentFinger(finger):\n",
    "    if (calculate_angle(finger[0], finger[1], finger[3]) <90 and finger[3][1] > finger[0][1]):\n",
    "        return True\n",
    "    return False\n"
   ]
  },
  {
   "cell_type": "code",
   "execution_count": 5,
   "id": "b12de649",
   "metadata": {},
   "outputs": [],
   "source": [
    "def straightFinger(finger):\n",
    "    if (finger[0][1] > finger[1][1] and finger[1][1] > finger[2][1] and finger[2][1] > finger[3][1]):\n",
    "        return True\n",
    "    return False"
   ]
  },
  {
   "cell_type": "code",
   "execution_count": 6,
   "id": "9e8ad534",
   "metadata": {},
   "outputs": [],
   "source": [
    "def straightDown(finger):\n",
    "    if (finger[0][1] < finger[1][1] and finger[1][1] < finger[2][1] and finger[2][1] < finger[3][1]):\n",
    "        return True\n",
    "    return False"
   ]
  },
  {
   "cell_type": "code",
   "execution_count": 7,
   "id": "422efce3",
   "metadata": {},
   "outputs": [],
   "source": [
    "def isLeft(finger):\n",
    "    if(finger[3][0] < finger[2][0] and finger[2][0] < finger[1][0] and finger[1][0] < finger[0][0]):\n",
    "        return True\n",
    "    return False"
   ]
  },
  {
   "cell_type": "code",
   "execution_count": 8,
   "id": "96bd84cc",
   "metadata": {},
   "outputs": [],
   "source": [
    "def isBetween(left, middle, right):\n",
    "    if (middle[0] > min(left[0], right[0]) and middle[0] < max(left[0], right[0])):\n",
    "        return True\n",
    "    return False"
   ]
  },
  {
   "cell_type": "code",
   "execution_count": 9,
   "id": "23f7a005",
   "metadata": {},
   "outputs": [],
   "source": [
    "def isBetweenVertical(left, middle, right):\n",
    "    if (middle[1] > min(left[1], right[1]) and middle[1] < max(left[1], right[1])):\n",
    "        return True\n",
    "    return False"
   ]
  },
  {
   "cell_type": "code",
   "execution_count": 10,
   "id": "bff884c4",
   "metadata": {},
   "outputs": [],
   "source": [
    "def faceFront(indexKnuckle, wrist, pinkyKnuckle):\n",
    "    if (calculate_angle(indexKnuckle, wrist, pinkyKnuckle) > 30):\n",
    "        return True\n",
    "    return False"
   ]
  },
  {
   "cell_type": "code",
   "execution_count": 11,
   "id": "f6a6f5af",
   "metadata": {},
   "outputs": [],
   "source": [
    "def isParallel(line1, line2):\n",
    "    angle1 = calculate_angle(line1[0], line1[1], line2[0])\n",
    "    angle2 = calculate_angle(line1[0], line2[0], line2[0])\n",
    "    if (abs(angle1-angle2) < 8):\n",
    "        return True\n",
    "    else:\n",
    "        return False"
   ]
  },
  {
   "cell_type": "code",
   "execution_count": 12,
   "id": "cf967610",
   "metadata": {},
   "outputs": [],
   "source": [
    "def displayText(text):\n",
    "    cv2.putText(image, text, \n",
    "                                      (int(width*0.5), 300), \n",
    "                                       cv2.FONT_HERSHEY_SIMPLEX, 7, (255, 255, 255), 2, cv2.LINE_AA\n",
    "                                            )"
   ]
  },
  {
   "cell_type": "code",
   "execution_count": 13,
   "id": "2f51b0f2",
   "metadata": {
    "scrolled": true
   },
   "outputs": [
    {
     "name": "stdout",
     "output_type": "stream",
     "text": [
      "640.0 480.0\n"
     ]
    }
   ],
   "source": [
    "import cv2\n",
    "import mediapipe as mp\n",
    "mp_drawing = mp.solutions.drawing_utils\n",
    "mp_drawing_styles = mp.solutions.drawing_styles\n",
    "mp_hands = mp.solutions.hands\n",
    "\n",
    "\n",
    "# For webcam input:\n",
    "cap = cv2.VideoCapture(0)\n",
    "with mp_hands.Hands(\n",
    "    model_complexity=0,\n",
    "    min_detection_confidence=0.5,\n",
    "    min_tracking_confidence=0.5) as hands:\n",
    "        if cap.isOpened():\n",
    "            width  = cap.get(3)  # float `width`\n",
    "            height = cap.get(4)\n",
    "            print (str(width) + \" \" + str(height))\n",
    "        while cap.isOpened():\n",
    "            success, image = cap.read()\n",
    "            if not success:\n",
    "                  print(\"Ignoring empty camera frame.\")\n",
    "                  # If loading a video, use 'break' instead of 'continue'.\n",
    "                  continue\n",
    "\n",
    "            # To improve performance, optionally mark the image as not writeable to\n",
    "            # pass by reference.        \n",
    "            image.flags.writeable = False\n",
    "            image = cv2.cvtColor(image, cv2.COLOR_BGR2RGB)\n",
    "            \n",
    "            results = hands.process(image)\n",
    "            \n",
    "            # Draw the hand annotations on the image.\n",
    "            image.flags.writeable = True\n",
    "            image = cv2.cvtColor(image, cv2.COLOR_RGB2BGR)            \n",
    "            \n",
    "            try:\n",
    "                landmarks = results.hand_landmarks.landmark\n",
    "                print(landmarks)\n",
    "            except:\n",
    "                pass\n",
    "\n",
    "    \n",
    "\n",
    "\n",
    "            if results.multi_hand_landmarks:\n",
    "                for hand_landmarks in results.multi_hand_landmarks:\n",
    "                    mp_drawing.draw_landmarks(\n",
    "                        image,\n",
    "                        hand_landmarks,\n",
    "                        mp_hands.HAND_CONNECTIONS,\n",
    "                        mp_drawing_styles.get_default_hand_landmarks_style(),\n",
    "                        mp_drawing_styles.get_default_hand_connections_style())\n",
    "                    \n",
    "                  \n",
    "                \n",
    "                #finger landmarks-----------------------\n",
    "                #18 - pinky second knuckle, 10-middle second knuckle, 4-thumb tip\n",
    "                \n",
    "                #numbered starting from knuckle\n",
    "                #index[1][0] --> x value of first joint down\n",
    "                index = []\n",
    "                middle = []\n",
    "                ring = []\n",
    "                thumb = []\n",
    "                pinky = []\n",
    "                for mark in range(0,4):\n",
    "                    thumb.append([hand_landmarks.landmark[mark+1].x, hand_landmarks.landmark[mark+1].y, hand_landmarks.landmark[mark+1].z])\n",
    "                    index.append([hand_landmarks.landmark[mark+5].x, hand_landmarks.landmark[mark+5].y, hand_landmarks.landmark[mark+5].z])\n",
    "                    middle.append([hand_landmarks.landmark[mark+9].x, hand_landmarks.landmark[mark+9].y, hand_landmarks.landmark[mark+9].z])\n",
    "                    ring.append([hand_landmarks.landmark[mark+13].x, hand_landmarks.landmark[mark+13].y, hand_landmarks.landmark[mark+13].z])\n",
    "                    pinky.append([hand_landmarks.landmark[mark+17].x, hand_landmarks.landmark[mark+17].y, hand_landmarks.landmark[mark+17].z])\n",
    "                \n",
    "                #chekcs if facing front\n",
    "                #front = faceFront(index[0], [hand_landmarks.landmark[0].x, hand_landmarks.landmark[0].y], pinky[0])\n",
    "                #slope = getAbsSlope(index[0], pinky[0]) #slope of line between pinky + index knuckle. higher value --> side facing\n",
    "                \n",
    "            \n",
    "                #checking for actions-------------------------\n",
    "                #ok (index + thumb tip distance r close)\n",
    "              \n",
    "                if max(calculate_distance(pinky[3], ring[3]), calculate_distance(pinky[3], middle[3]), calculate_distance(pinky[3], index[3])) < 0.05 and pinky[3][1] > middle[1][1]:   \n",
    "                        if calculate_distance(pinky[3], thumb[3]) < 0.05:\n",
    "                            displayText(\"o\")\n",
    "                        else:\n",
    "                            displayText(\"c\")\n",
    "                \n",
    "                elif (bentFinger(index) and bentFinger(middle) and bentFinger(ring) and bentFinger(pinky)):\n",
    "                    if (isBetween(middle[1], index[1], thumb[3]) and thumb[3][1] < middle[1][1]):\n",
    "                        displayText(\"a\")\n",
    "                    elif (isBetween(middle[1], thumb[3], index[1]) and thumb[3][1] < middle[1][1]):\n",
    "                        displayText(\"t\")\n",
    "                    elif(isBetween(ring[1], thumb[3], middle[1]) and thumb[3][1] < ring[1][1]):\n",
    "                        displayText(\"n\")\n",
    "                    elif(isBetween(pinky[1], thumb[3], ring[1]) and thumb[3][1] < pinky[1][1]):\n",
    "                        displayText(\"m\")\n",
    "                    elif(isBetween(pinky[1], thumb[3], index[1]) and thumb[3][1] < middle[2][1] and thumb[3][1] > middle[1][1]):\n",
    "                        displayText(\"s\")\n",
    "                    elif(isBetween(pinky[1], thumb[3], index[1]) and thumb[3][1] > middle[2][1]):\n",
    "                        displayText(\"e\")\n",
    "\n",
    "                elif(straightFinger(index) and straightFinger(middle) and straightFinger(ring) and straightFinger(pinky)):\n",
    "                    if (isBetween(pinky[0], thumb[3], index[0])):\n",
    "                        displayText(\"b\")\n",
    "                elif(bentFinger(index) and straightFinger(middle) and straightFinger(ring) and straightFinger(pinky)):\n",
    "                    if (calculate_distance(thumb[3], index[3]) < 0.1):\n",
    "                        displayText(\"f\")\n",
    "                elif(not bentFinger(index) and bentFinger(middle) and bentFinger(ring) and bentFinger(pinky) and pinky[3][1] > pinky[2][1]):\n",
    "                    if(index[3][1] > index[1][1] and index[3][1] < middle[1][1]):\n",
    "                        displayText(\"x\")\n",
    "                    elif (calculate_distance(thumb[3], ring[3]) < 0.08):\n",
    "                        displayText(\"d\")\n",
    "                    elif(straightFinger(index) and calculate_angle(index[3], thumb[0], thumb[3]) > 30):\n",
    "                        displayText(\"l\")\n",
    "                elif(straightFinger(index) and straightFinger(middle) and bentFinger(ring) and bentFinger(pinky)):\n",
    "                    if (index[3][0] > middle[3][0]):\n",
    "                        displayText(\"r\")  \n",
    "                    else:\n",
    "        \n",
    "                        if (calculate_angle(index[3], middle[0], middle[3]) > 18):\n",
    "                            if isBetween(middle[1], thumb[3], index[1]) and thumb[3][1] < middle[0][1]:\n",
    "                                displayText(\"k\")\n",
    "                            else:\n",
    "                                displayText(\"v\")\n",
    "                        else:\n",
    "                            displayText(\"u\")\n",
    "                elif(not bentFinger(index) and not bentFinger(middle) and not bentFinger(ring) and bentFinger(pinky)):\n",
    "                    if (calculate_angle(index[3], middle[0], ring[3]) > 30):\n",
    "                         displayText(\"w\")\n",
    "                elif(bentFinger(index) and bentFinger(middle) and bentFinger(ring) and straightFinger(pinky)):\n",
    "                    if (calculate_angle(pinky[3], middle[3], thumb[3]) < 20):\n",
    "                         displayText(\"i\")\n",
    "                    elif (calculate_angle(pinky[3], middle[3],thumb[3]) > 45 and thumb[3][1] < index[1][1]):\n",
    "                         displayText(\"y\")\n",
    "                elif isLeft(index) and isLeft(middle) and straightDown(middle) and isBetweenVertical(index[2], thumb[3], middle[2]) and ring[3][0] > ring[1][0] and pinky[3][0] > pinky[1][0]:\n",
    "                    displayText(\"p\")\n",
    "                elif isLeft(index) and isLeft(middle) and ring[3][0] > ring[1][0] and pinky[3][0] > pinky[1][0] and calculate_distance(thumb[3], ring[1]) < 0.5:\n",
    "                    displayText(\"h\")\n",
    "                elif isLeft(index) and isLeft(thumb) and middle[3][0] > middle[1][0] and ring[3][0] > ring[1][0] and pinky[3][0] > pinky[1][0]:\n",
    "                    if straightDown(index):\n",
    "                        displayText(\"q\")\n",
    "                    else:\n",
    "                        displayText(\"g\")\n",
    "                                       \n",
    "                \n",
    "                \n",
    "            # Flip the image horizontally for a selfie-view display.\n",
    "            cv2.imshow('MediaPipe Hands', image)\n",
    "            if cv2.waitKey(1) & 0xFF == ord('q'):\n",
    "                break\n",
    "cap.release\n",
    "cv2.destroyAllWindows()"
   ]
  },
  {
   "cell_type": "code",
   "execution_count": 14,
   "id": "c50d36c2",
   "metadata": {},
   "outputs": [
    {
     "name": "stdout",
     "output_type": "stream",
     "text": [
      "<function calculate_distance at 0x0000024F6CE30B80>\n"
     ]
    }
   ],
   "source": [
    "print(calculate_distance)"
   ]
  },
  {
   "cell_type": "code",
   "execution_count": 12,
   "id": "fe97a69e",
   "metadata": {},
   "outputs": [
    {
     "name": "stdout",
     "output_type": "stream",
     "text": [
      "[1, 3, 5, 7, 9]\n"
     ]
    }
   ],
   "source": [
    "arr = [1, 2, 3, 4, 5, 6, 7, 8, 9, 10, 11]\n",
    "print(arr[0:-1:2])"
   ]
  },
  {
   "cell_type": "code",
   "execution_count": null,
   "id": "dd7e2b6e",
   "metadata": {},
   "outputs": [],
   "source": [
    "                        \n",
    "                '''     \n",
    "                elif (maxTip - minTip)< 0.03 and slope < 0.3: #algined fingertips (along y axis)\n",
    "                    \n",
    "                    if (maxTip > middle[1][1]+0.05): # if finger is bending down     (tip of finger is below middle knuckle)\n",
    "                        if (thumb[2][2] > index[2][2]): #index joint in front of thumb joint\n",
    "                            if (thumb[2][2] > middle[2][2]): #middle joint in front of thumb joint\n",
    "                                if (thumb[2][2] > ring[2][2]):\n",
    "                                    displayText(\"m\")\n",
    "                                else:\n",
    "                                    displayText(\"n\")\n",
    "                            else:\n",
    "                                displayText(\"t\")\n",
    "                        elif (calculate_angle(pinky[1], middle[1], thumb[3]) > 150 ): # a, thumb at side\n",
    "                             displayText(\"a\")\n",
    "                        elif(calculate_angle(pinky[1], middle[1], thumb[3]) < 100 ): #  e or s, thumb in middle\n",
    "                            if(thumb[3][1] > middle[2][1]): #thumb below fingers (e)\n",
    "                                    displayText(\"e\")\n",
    "                            elif(thumb[3][1] < middle[2][1] and thumb[3][1] > middle[1][1]): #thumb ontop of fingers (s)\n",
    "                                    displayText(\"s\")\n",
    "                '''"
   ]
  }
 ],
 "metadata": {
  "kernelspec": {
   "display_name": "Python 3",
   "language": "python",
   "name": "python3"
  },
  "language_info": {
   "codemirror_mode": {
    "name": "ipython",
    "version": 3
   },
   "file_extension": ".py",
   "mimetype": "text/x-python",
   "name": "python",
   "nbconvert_exporter": "python",
   "pygments_lexer": "ipython3",
   "version": "3.8.8"
  }
 },
 "nbformat": 4,
 "nbformat_minor": 5
}
