{
 "cells": [
  {
   "cell_type": "code",
   "execution_count": 1,
   "id": "2abe4a18",
   "metadata": {},
   "outputs": [
    {
     "name": "stdout",
     "output_type": "stream",
     "text": [
      "Requirement already satisfied: mediapipe in c:\\users\\anny\\anaconda3\\lib\\site-packages (0.8.9.1)\n",
      "Requirement already satisfied: opencv-python in c:\\users\\anny\\anaconda3\\lib\\site-packages (4.5.5.62)\n",
      "Requirement already satisfied: protobuf>=3.11.4 in c:\\users\\anny\\anaconda3\\lib\\site-packages (from mediapipe) (3.19.1)\n",
      "Requirement already satisfied: matplotlib in c:\\users\\anny\\anaconda3\\lib\\site-packages (from mediapipe) (3.3.4)\n",
      "Requirement already satisfied: numpy in c:\\users\\anny\\anaconda3\\lib\\site-packages (from mediapipe) (1.20.1)\n",
      "Requirement already satisfied: opencv-contrib-python in c:\\users\\anny\\anaconda3\\lib\\site-packages (from mediapipe) (4.5.5.62)\n",
      "Requirement already satisfied: absl-py in c:\\users\\anny\\anaconda3\\lib\\site-packages (from mediapipe) (1.0.0)\n",
      "Requirement already satisfied: attrs>=19.1.0 in c:\\users\\anny\\anaconda3\\lib\\site-packages (from mediapipe) (20.3.0)\n",
      "Requirement already satisfied: six in c:\\users\\anny\\anaconda3\\lib\\site-packages (from absl-py->mediapipe) (1.15.0)\n",
      "Requirement already satisfied: cycler>=0.10 in c:\\users\\anny\\anaconda3\\lib\\site-packages (from matplotlib->mediapipe) (0.10.0)\n",
      "Requirement already satisfied: python-dateutil>=2.1 in c:\\users\\anny\\anaconda3\\lib\\site-packages (from matplotlib->mediapipe) (2.8.1)\n",
      "Requirement already satisfied: pyparsing!=2.0.4,!=2.1.2,!=2.1.6,>=2.0.3 in c:\\users\\anny\\anaconda3\\lib\\site-packages (from matplotlib->mediapipe) (2.4.7)\n",
      "Requirement already satisfied: pillow>=6.2.0 in c:\\users\\anny\\anaconda3\\lib\\site-packages (from matplotlib->mediapipe) (8.2.0)\n",
      "Requirement already satisfied: kiwisolver>=1.0.1 in c:\\users\\anny\\anaconda3\\lib\\site-packages (from matplotlib->mediapipe) (1.3.1)\n"
     ]
    }
   ],
   "source": [
    "!pip install mediapipe opencv-python"
   ]
  },
  {
   "cell_type": "code",
   "execution_count": 2,
   "id": "9ff58c37",
   "metadata": {},
   "outputs": [],
   "source": [
    "import cv2\n",
    "import mediapipe as mp\n",
    "import numpy as np\n",
    "\n",
    "\n",
    "mp_draining = mp.solutions.drawing_utils # drawing \n",
    "mp_pose = mp.solutions.pose # import pose estimation model"
   ]
  },
  {
   "cell_type": "code",
   "execution_count": null,
   "id": "8ccacd6d",
   "metadata": {},
   "outputs": [],
   "source": [
    "# get real time video feed\n",
    "cap = cv2.VideoCapture(0) #0 --> represents webcam\n",
    "print(\"help\")\n",
    "# setup mediapipe instance\n",
    "with mp_pose.Pose(min_detection_confidence = 0.5, min_tracking_confidence = 0.5) as pose:\n",
    "  #more specific --> higher numbers\n",
    "  #makes ^ above accessable via \"pose\" variable\n",
    "    print(\"help\")\n",
    "    while cap.isOpened():\n",
    "        ret, frame = cap.read()\n",
    "\n",
    "          # recolour image --> reordering colour arrays in correct order (opencv --> mediapipe)\n",
    "        image = cv2.cvtColor(frame, cv2.COLOR_BGR2RGB)\n",
    "        image.flags.writeable = False # save memory\n",
    "\n",
    "        #makes detection --> stored in results\n",
    "        results = pose.process(image)\n",
    "\n",
    "        image.flags.writeable = True\n",
    "        image = cv2.cvtColor(image, cv2.COLOR_RGB2BGR) #re-render to opencv (rearranging)\n",
    "\n",
    "        cv2.imshow(\"Mediapipe Feed\", frame) # gives popup \n",
    "\n",
    "        if cv2.waitKey(10) & 0xFF == ord(\"q\"):  #checks if hitting q or closing screen\n",
    "            break\n",
    "\n",
    "cap.release()\n",
    "cv2.destroyAllWindows()"
   ]
  },
  {
   "cell_type": "code",
   "execution_count": null,
   "id": "cb642108",
   "metadata": {},
   "outputs": [],
   "source": []
  }
 ],
 "metadata": {
  "kernelspec": {
   "display_name": "Python 3",
   "language": "python",
   "name": "python3"
  },
  "language_info": {
   "codemirror_mode": {
    "name": "ipython",
    "version": 3
   },
   "file_extension": ".py",
   "mimetype": "text/x-python",
   "name": "python",
   "nbconvert_exporter": "python",
   "pygments_lexer": "ipython3",
   "version": "3.8.8"
  }
 },
 "nbformat": 4,
 "nbformat_minor": 5
}
